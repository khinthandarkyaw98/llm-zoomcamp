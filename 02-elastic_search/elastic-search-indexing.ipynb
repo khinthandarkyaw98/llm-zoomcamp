{
 "cells": [
  {
   "cell_type": "code",
   "execution_count": 1,
   "id": "8c05e195-a254-424a-b52b-33ac2539799e",
   "metadata": {},
   "outputs": [],
   "source": [
    "import json"
   ]
  },
  {
   "cell_type": "code",
   "execution_count": 2,
   "id": "78cfb5a2-a794-4e88-9098-29a8fe81b158",
   "metadata": {},
   "outputs": [],
   "source": [
    "with open('../data/documents.json', 'rt') as f_in:\n",
    "    docs_raw = json.load(f_in)"
   ]
  },
  {
   "cell_type": "code",
   "execution_count": 3,
   "id": "e2917eef-35f0-4387-8722-aa5e5b7ab412",
   "metadata": {},
   "outputs": [],
   "source": [
    "# docs_raw[0]"
   ]
  },
  {
   "cell_type": "code",
   "execution_count": 4,
   "id": "ed8a9ccd-338d-4673-a3fe-42547f237140",
   "metadata": {},
   "outputs": [],
   "source": [
    "documents = []\n",
    "\n",
    "for course_dict in docs_raw:\n",
    "    for doc in course_dict[\"documents\"]:\n",
    "        doc[\"course\"] = course_dict[\"course\"]\n",
    "        documents.append(doc)"
   ]
  },
  {
   "cell_type": "code",
   "execution_count": 5,
   "id": "7bb99cb9-59b5-4acf-91a1-ef85aaa12e95",
   "metadata": {},
   "outputs": [
    {
     "data": {
      "text/plain": [
       "{'text': \"The purpose of this document is to capture frequently asked technical questions\\nThe exact day and hour of the course will be 15th Jan 2024 at 17h00. The course will start with the first  “Office Hours'' live.1\\nSubscribe to course public Google Calendar (it works from Desktop only).\\nRegister before the course starts using this link.\\nJoin the course Telegram channel with announcements.\\nDon’t forget to register in DataTalks.Club's Slack and join the channel.\",\n",
       " 'section': 'General course-related questions',\n",
       " 'question': 'Course - When will the course start?',\n",
       " 'course': 'data-engineering-zoomcamp'}"
      ]
     },
     "execution_count": 5,
     "metadata": {},
     "output_type": "execute_result"
    }
   ],
   "source": [
    "documents[0]"
   ]
  },
  {
   "cell_type": "code",
   "execution_count": 6,
   "id": "229d1521-7dab-49a7-b607-ff95f8601660",
   "metadata": {},
   "outputs": [],
   "source": [
    "from elasticsearch import Elasticsearch"
   ]
  },
  {
   "cell_type": "code",
   "execution_count": 7,
   "id": "f1c171cc-6de3-4e70-a0d7-9cebfbc9d91e",
   "metadata": {},
   "outputs": [],
   "source": [
    "es_client = Elasticsearch('http://localhost:9200')"
   ]
  },
  {
   "cell_type": "code",
   "execution_count": 8,
   "id": "a41bfd43-68b1-40e0-a305-cca385d96c05",
   "metadata": {},
   "outputs": [
    {
     "data": {
      "text/plain": [
       "ObjectApiResponse({'name': '9b78d097162e', 'cluster_name': 'docker-cluster', 'cluster_uuid': 'KYDxD6UOSoKHJ7zS2GuiCg', 'version': {'number': '8.4.3', 'build_flavor': 'default', 'build_type': 'docker', 'build_hash': '42f05b9372a9a4a470db3b52817899b99a76ee73', 'build_date': '2022-10-04T07:17:24.662462378Z', 'build_snapshot': False, 'lucene_version': '9.3.0', 'minimum_wire_compatibility_version': '7.17.0', 'minimum_index_compatibility_version': '7.0.0'}, 'tagline': 'You Know, for Search'})"
      ]
     },
     "execution_count": 8,
     "metadata": {},
     "output_type": "execute_result"
    }
   ],
   "source": [
    "es_client.info()"
   ]
  },
  {
   "cell_type": "code",
   "execution_count": 9,
   "id": "1269910f-d66a-4099-8f2b-aca5904c4d3c",
   "metadata": {},
   "outputs": [
    {
     "name": "stdout",
     "output_type": "stream",
     "text": [
      "Index 'course-questions' created successfully.\n"
     ]
    }
   ],
   "source": [
    "# Index Settings for the elastic search\n",
    "index_settings = {\n",
    "    \"settings\": {\n",
    "        \"number_of_shards\": 1,\n",
    "        \"number_of_replicas\": 0\n",
    "    },\n",
    "    \"mappings\": {\n",
    "        \"properties\": {\n",
    "            \"text\": {\"type\": \"text\"},\n",
    "            \"section\": {\"type\": \"text\"},\n",
    "            \"question\": {\"type\": \"text\"},\n",
    "            \"course\": {\"type\": \"keyword\"} \n",
    "        }\n",
    "    }\n",
    "}\n",
    "\n",
    "index_name = \"course-questions\"\n",
    "\n",
    "# Create the index only if it does not exist\n",
    "if not es_client.indices.exists(index=index_name):\n",
    "    es_client.indices.create(index=index_name, body=index_settings)\n",
    "    print(f\"Index '{index_name}' created successfully.\")\n",
    "else:\n",
    "    print(f\"Index '{index_name}' already exists.\")"
   ]
  },
  {
   "cell_type": "code",
   "execution_count": 10,
   "id": "254bba93-3457-4aac-95ba-0a230f438cb2",
   "metadata": {},
   "outputs": [
    {
     "name": "stderr",
     "output_type": "stream",
     "text": [
      "/usr/local/python/3.10.13/lib/python3.10/site-packages/tqdm/auto.py:21: TqdmWarning: IProgress not found. Please update jupyter and ipywidgets. See https://ipywidgets.readthedocs.io/en/stable/user_install.html\n",
      "  from .autonotebook import tqdm as notebook_tqdm\n"
     ]
    }
   ],
   "source": [
    "# progress bar\n",
    "from tqdm.auto import tqdm "
   ]
  },
  {
   "cell_type": "code",
   "execution_count": 11,
   "id": "1ea0432b-3126-4741-aaf9-48d1a996b255",
   "metadata": {},
   "outputs": [
    {
     "name": "stderr",
     "output_type": "stream",
     "text": [
      "100%|█████████████████████████████████████████████████████████████| 948/948 [00:23<00:00, 40.42it/s]\n"
     ]
    }
   ],
   "source": [
    "for doc in tqdm(documents):\n",
    "    es_client.index(index = index_name, \n",
    "                document = doc)"
   ]
  },
  {
   "cell_type": "code",
   "execution_count": 12,
   "id": "b3c39266-9206-4608-a2a4-06b96e366599",
   "metadata": {},
   "outputs": [],
   "source": [
    "query = \"I just discovered the cousre. Can I still join in?\""
   ]
  },
  {
   "cell_type": "code",
   "execution_count": 13,
   "id": "0e39b5a1-2061-4512-bfff-6fa14b185a76",
   "metadata": {},
   "outputs": [],
   "source": [
    "# same as \n",
    "# SELECT * WHERE course = \"data-engineering-zoomcamp\";\n",
    "\n",
    "search_query = {\n",
    "    \"size\": 5,\n",
    "    \"query\": {\n",
    "        \"bool\": {\n",
    "            \"must\": {\n",
    "                \"multi_match\": {\n",
    "                    \"query\": query,\n",
    "                    \"fields\": [\"question^3\", \"text\", \"section\"], # hat 3 -> questions three times import like we did in 01-indexing-searching\n",
    "                    \"type\": \"best_fields\"\n",
    "                }\n",
    "            },\n",
    "            \"filter\": {\n",
    "                \"term\": {\n",
    "                    \"course\": \"data-engineering-zoomcamp\"\n",
    "                }\n",
    "            }\n",
    "        }\n",
    "    }\n",
    "}"
   ]
  },
  {
   "cell_type": "code",
   "execution_count": 14,
   "id": "60d45c6e-ae74-4b15-adb7-b083bd625fb9",
   "metadata": {},
   "outputs": [],
   "source": [
    "response = es_client.search(index = index_name, \n",
    "                 body = search_query)"
   ]
  },
  {
   "cell_type": "code",
   "execution_count": 15,
   "id": "1b118eb6-1b34-48ac-bedb-7026cb991eba",
   "metadata": {},
   "outputs": [
    {
     "data": {
      "text/plain": [
       "ObjectApiResponse({'took': 40, 'timed_out': False, '_shards': {'total': 1, 'successful': 1, 'skipped': 0, 'failed': 0}, 'hits': {'total': {'value': 415, 'relation': 'eq'}, 'max_score': 58.834282, 'hits': [{'_index': 'course-questions', '_id': '86fO3pABJIiFBx9AMheh', '_score': 58.834282, '_source': {'text': \"Yes, even if you don't register, you're still eligible to submit the homeworks.\\nBe aware, however, that there will be deadlines for turning in the final projects. So don't leave everything for the last minute.\", 'section': 'General course-related questions', 'question': 'Course - Can I still join the course after the start date?', 'course': 'data-engineering-zoomcamp'}}, {'_index': 'course-questions', '_id': '-afO3pABJIiFBx9AMxc6', '_score': 34.284782, '_source': {'text': 'Yes, the slack channel remains open and you can ask questions there. But always sDocker containers exit code w search the channel first and second, check the FAQ (this document), most likely all your questions are already answered here.\\nYou can also tag the bot @ZoomcampQABot to help you conduct the search, but don’t rely on its answers 100%, it is pretty good though.', 'section': 'General course-related questions', 'question': 'Course - Can I get support if I take the course in the self-paced mode?', 'course': 'data-engineering-zoomcamp'}}, {'_index': 'course-questions', '_id': 'c6fO3pABJIiFBx9APxhH', '_score': 29.17001, '_source': {'text': 'The ny-rides.json is your private file in Google Cloud Platform (GCP). \\n\\nAnd here’s the way to find it:\\nGCP -> Select project with your  instance -> IAM & Admin -> Service Accounts Keys tab -> add key, JSON as key type, then click create\\nNote: Once you go into Service Accounts Keys tab, click the email, then you can see the “KEYS” tab where you can add key as a JSON as its key type', 'section': 'Module 1: Docker and Terraform', 'question': 'GCP - Where can I find the “ny-rides.json” file?', 'course': 'data-engineering-zoomcamp'}}, {'_index': 'course-questions', '_id': '9afO3pABJIiFBx9AMhfX', '_score': 29.17001, '_source': {'text': 'You can start by installing and setting up all the dependencies and requirements:\\nGoogle cloud account\\nGoogle Cloud SDK\\nPython 3 (installed with Anaconda)\\nTerraform\\nGit\\nLook over the prerequisites and syllabus to see if you are comfortable with these subjects.', 'section': 'General course-related questions', 'question': 'Course - What can I do before the course starts?', 'course': 'data-engineering-zoomcamp'}}, {'_index': 'course-questions', '_id': '-KfO3pABJIiFBx9AMxcl', '_score': 29.17001, '_source': {'text': 'Yes, we will keep all the materials after the course finishes, so you can follow the course at your own pace after it finishes.\\nYou can also continue looking at the homeworks and continue preparing for the next cohort. I guess you can also start working on your final capstone project.', 'section': 'General course-related questions', 'question': 'Course - Can I follow the course after it finishes?', 'course': 'data-engineering-zoomcamp'}}]}})"
      ]
     },
     "execution_count": 15,
     "metadata": {},
     "output_type": "execute_result"
    }
   ],
   "source": [
    "response"
   ]
  },
  {
   "cell_type": "code",
   "execution_count": 16,
   "id": "3bca836b-9ea8-4c30-8235-9f1fa89a3bf2",
   "metadata": {},
   "outputs": [
    {
     "data": {
      "text/plain": [
       "{'total': {'value': 415, 'relation': 'eq'},\n",
       " 'max_score': 58.834282,\n",
       " 'hits': [{'_index': 'course-questions',\n",
       "   '_id': '86fO3pABJIiFBx9AMheh',\n",
       "   '_score': 58.834282,\n",
       "   '_source': {'text': \"Yes, even if you don't register, you're still eligible to submit the homeworks.\\nBe aware, however, that there will be deadlines for turning in the final projects. So don't leave everything for the last minute.\",\n",
       "    'section': 'General course-related questions',\n",
       "    'question': 'Course - Can I still join the course after the start date?',\n",
       "    'course': 'data-engineering-zoomcamp'}},\n",
       "  {'_index': 'course-questions',\n",
       "   '_id': '-afO3pABJIiFBx9AMxc6',\n",
       "   '_score': 34.284782,\n",
       "   '_source': {'text': 'Yes, the slack channel remains open and you can ask questions there. But always sDocker containers exit code w search the channel first and second, check the FAQ (this document), most likely all your questions are already answered here.\\nYou can also tag the bot @ZoomcampQABot to help you conduct the search, but don’t rely on its answers 100%, it is pretty good though.',\n",
       "    'section': 'General course-related questions',\n",
       "    'question': 'Course - Can I get support if I take the course in the self-paced mode?',\n",
       "    'course': 'data-engineering-zoomcamp'}},\n",
       "  {'_index': 'course-questions',\n",
       "   '_id': 'c6fO3pABJIiFBx9APxhH',\n",
       "   '_score': 29.17001,\n",
       "   '_source': {'text': 'The ny-rides.json is your private file in Google Cloud Platform (GCP). \\n\\nAnd here’s the way to find it:\\nGCP -> Select project with your  instance -> IAM & Admin -> Service Accounts Keys tab -> add key, JSON as key type, then click create\\nNote: Once you go into Service Accounts Keys tab, click the email, then you can see the “KEYS” tab where you can add key as a JSON as its key type',\n",
       "    'section': 'Module 1: Docker and Terraform',\n",
       "    'question': 'GCP - Where can I find the “ny-rides.json” file?',\n",
       "    'course': 'data-engineering-zoomcamp'}},\n",
       "  {'_index': 'course-questions',\n",
       "   '_id': '9afO3pABJIiFBx9AMhfX',\n",
       "   '_score': 29.17001,\n",
       "   '_source': {'text': 'You can start by installing and setting up all the dependencies and requirements:\\nGoogle cloud account\\nGoogle Cloud SDK\\nPython 3 (installed with Anaconda)\\nTerraform\\nGit\\nLook over the prerequisites and syllabus to see if you are comfortable with these subjects.',\n",
       "    'section': 'General course-related questions',\n",
       "    'question': 'Course - What can I do before the course starts?',\n",
       "    'course': 'data-engineering-zoomcamp'}},\n",
       "  {'_index': 'course-questions',\n",
       "   '_id': '-KfO3pABJIiFBx9AMxcl',\n",
       "   '_score': 29.17001,\n",
       "   '_source': {'text': 'Yes, we will keep all the materials after the course finishes, so you can follow the course at your own pace after it finishes.\\nYou can also continue looking at the homeworks and continue preparing for the next cohort. I guess you can also start working on your final capstone project.',\n",
       "    'section': 'General course-related questions',\n",
       "    'question': 'Course - Can I follow the course after it finishes?',\n",
       "    'course': 'data-engineering-zoomcamp'}}]}"
      ]
     },
     "execution_count": 16,
     "metadata": {},
     "output_type": "execute_result"
    }
   ],
   "source": [
    "response['hits']"
   ]
  },
  {
   "cell_type": "code",
   "execution_count": 17,
   "id": "1d5fdaaf-6fdb-47cb-929f-db52dd293c4c",
   "metadata": {},
   "outputs": [
    {
     "data": {
      "text/plain": [
       "[{'_index': 'course-questions',\n",
       "  '_id': '86fO3pABJIiFBx9AMheh',\n",
       "  '_score': 58.834282,\n",
       "  '_source': {'text': \"Yes, even if you don't register, you're still eligible to submit the homeworks.\\nBe aware, however, that there will be deadlines for turning in the final projects. So don't leave everything for the last minute.\",\n",
       "   'section': 'General course-related questions',\n",
       "   'question': 'Course - Can I still join the course after the start date?',\n",
       "   'course': 'data-engineering-zoomcamp'}},\n",
       " {'_index': 'course-questions',\n",
       "  '_id': '-afO3pABJIiFBx9AMxc6',\n",
       "  '_score': 34.284782,\n",
       "  '_source': {'text': 'Yes, the slack channel remains open and you can ask questions there. But always sDocker containers exit code w search the channel first and second, check the FAQ (this document), most likely all your questions are already answered here.\\nYou can also tag the bot @ZoomcampQABot to help you conduct the search, but don’t rely on its answers 100%, it is pretty good though.',\n",
       "   'section': 'General course-related questions',\n",
       "   'question': 'Course - Can I get support if I take the course in the self-paced mode?',\n",
       "   'course': 'data-engineering-zoomcamp'}},\n",
       " {'_index': 'course-questions',\n",
       "  '_id': 'c6fO3pABJIiFBx9APxhH',\n",
       "  '_score': 29.17001,\n",
       "  '_source': {'text': 'The ny-rides.json is your private file in Google Cloud Platform (GCP). \\n\\nAnd here’s the way to find it:\\nGCP -> Select project with your  instance -> IAM & Admin -> Service Accounts Keys tab -> add key, JSON as key type, then click create\\nNote: Once you go into Service Accounts Keys tab, click the email, then you can see the “KEYS” tab where you can add key as a JSON as its key type',\n",
       "   'section': 'Module 1: Docker and Terraform',\n",
       "   'question': 'GCP - Where can I find the “ny-rides.json” file?',\n",
       "   'course': 'data-engineering-zoomcamp'}},\n",
       " {'_index': 'course-questions',\n",
       "  '_id': '9afO3pABJIiFBx9AMhfX',\n",
       "  '_score': 29.17001,\n",
       "  '_source': {'text': 'You can start by installing and setting up all the dependencies and requirements:\\nGoogle cloud account\\nGoogle Cloud SDK\\nPython 3 (installed with Anaconda)\\nTerraform\\nGit\\nLook over the prerequisites and syllabus to see if you are comfortable with these subjects.',\n",
       "   'section': 'General course-related questions',\n",
       "   'question': 'Course - What can I do before the course starts?',\n",
       "   'course': 'data-engineering-zoomcamp'}},\n",
       " {'_index': 'course-questions',\n",
       "  '_id': '-KfO3pABJIiFBx9AMxcl',\n",
       "  '_score': 29.17001,\n",
       "  '_source': {'text': 'Yes, we will keep all the materials after the course finishes, so you can follow the course at your own pace after it finishes.\\nYou can also continue looking at the homeworks and continue preparing for the next cohort. I guess you can also start working on your final capstone project.',\n",
       "   'section': 'General course-related questions',\n",
       "   'question': 'Course - Can I follow the course after it finishes?',\n",
       "   'course': 'data-engineering-zoomcamp'}}]"
      ]
     },
     "execution_count": 17,
     "metadata": {},
     "output_type": "execute_result"
    }
   ],
   "source": [
    "response['hits']['hits']"
   ]
  },
  {
   "cell_type": "code",
   "execution_count": 18,
   "id": "42a76125-872a-4606-b52a-cb252178eb38",
   "metadata": {},
   "outputs": [
    {
     "data": {
      "text/plain": [
       "[{'text': \"Yes, even if you don't register, you're still eligible to submit the homeworks.\\nBe aware, however, that there will be deadlines for turning in the final projects. So don't leave everything for the last minute.\",\n",
       "  'section': 'General course-related questions',\n",
       "  'question': 'Course - Can I still join the course after the start date?',\n",
       "  'course': 'data-engineering-zoomcamp'},\n",
       " {'text': 'Yes, the slack channel remains open and you can ask questions there. But always sDocker containers exit code w search the channel first and second, check the FAQ (this document), most likely all your questions are already answered here.\\nYou can also tag the bot @ZoomcampQABot to help you conduct the search, but don’t rely on its answers 100%, it is pretty good though.',\n",
       "  'section': 'General course-related questions',\n",
       "  'question': 'Course - Can I get support if I take the course in the self-paced mode?',\n",
       "  'course': 'data-engineering-zoomcamp'},\n",
       " {'text': 'The ny-rides.json is your private file in Google Cloud Platform (GCP). \\n\\nAnd here’s the way to find it:\\nGCP -> Select project with your  instance -> IAM & Admin -> Service Accounts Keys tab -> add key, JSON as key type, then click create\\nNote: Once you go into Service Accounts Keys tab, click the email, then you can see the “KEYS” tab where you can add key as a JSON as its key type',\n",
       "  'section': 'Module 1: Docker and Terraform',\n",
       "  'question': 'GCP - Where can I find the “ny-rides.json” file?',\n",
       "  'course': 'data-engineering-zoomcamp'},\n",
       " {'text': 'You can start by installing and setting up all the dependencies and requirements:\\nGoogle cloud account\\nGoogle Cloud SDK\\nPython 3 (installed with Anaconda)\\nTerraform\\nGit\\nLook over the prerequisites and syllabus to see if you are comfortable with these subjects.',\n",
       "  'section': 'General course-related questions',\n",
       "  'question': 'Course - What can I do before the course starts?',\n",
       "  'course': 'data-engineering-zoomcamp'},\n",
       " {'text': 'Yes, we will keep all the materials after the course finishes, so you can follow the course at your own pace after it finishes.\\nYou can also continue looking at the homeworks and continue preparing for the next cohort. I guess you can also start working on your final capstone project.',\n",
       "  'section': 'General course-related questions',\n",
       "  'question': 'Course - Can I follow the course after it finishes?',\n",
       "  'course': 'data-engineering-zoomcamp'}]"
      ]
     },
     "execution_count": 18,
     "metadata": {},
     "output_type": "execute_result"
    }
   ],
   "source": [
    "result_docs = []\n",
    "for hit in response['hits']['hits']:\n",
    "    result_docs.append(hit['_source'])\n",
    "\n",
    "result_docs"
   ]
  },
  {
   "cell_type": "code",
   "execution_count": 19,
   "id": "d9c0c1f7-57e7-4544-902c-002c4df04a3a",
   "metadata": {},
   "outputs": [],
   "source": [
    "# Rewrite in terms of the function\n",
    "def elastic_search(query):\n",
    "    search_query = {\n",
    "        \"size\": 5,\n",
    "        \"query\": {\n",
    "            \"bool\": {\n",
    "                \"must\": {\n",
    "                    \"multi_match\": {\n",
    "                        \"query\": query,\n",
    "                        \"fields\": [\"question^3\", \"text\", \"section\"], # hat 3 -> questions three times import like we did in 01-indexing-searching\n",
    "                        \"type\": \"best_fields\"\n",
    "                    }\n",
    "                },\n",
    "                \"filter\": {\n",
    "                    \"term\": {\n",
    "                        \"course\": \"data-engineering-zoomcamp\"\n",
    "                    }\n",
    "                }\n",
    "            }\n",
    "        }\n",
    "    }\n",
    "\n",
    "    response = es_client.search(index = index_name, \n",
    "                 body = search_query)\n",
    "\n",
    "    result_docs = []\n",
    "    \n",
    "    for hit in response['hits']['hits']:\n",
    "        result_docs.append(hit['_source'])\n",
    "    \n",
    "    return result_docs"
   ]
  },
  {
   "cell_type": "code",
   "execution_count": 20,
   "id": "84be4667-1bfe-4de2-9212-18d5fe03fdb1",
   "metadata": {},
   "outputs": [
    {
     "data": {
      "text/plain": [
       "[{'text': \"Yes, even if you don't register, you're still eligible to submit the homeworks.\\nBe aware, however, that there will be deadlines for turning in the final projects. So don't leave everything for the last minute.\",\n",
       "  'section': 'General course-related questions',\n",
       "  'question': 'Course - Can I still join the course after the start date?',\n",
       "  'course': 'data-engineering-zoomcamp'},\n",
       " {'text': 'Yes, the slack channel remains open and you can ask questions there. But always sDocker containers exit code w search the channel first and second, check the FAQ (this document), most likely all your questions are already answered here.\\nYou can also tag the bot @ZoomcampQABot to help you conduct the search, but don’t rely on its answers 100%, it is pretty good though.',\n",
       "  'section': 'General course-related questions',\n",
       "  'question': 'Course - Can I get support if I take the course in the self-paced mode?',\n",
       "  'course': 'data-engineering-zoomcamp'},\n",
       " {'text': 'The ny-rides.json is your private file in Google Cloud Platform (GCP). \\n\\nAnd here’s the way to find it:\\nGCP -> Select project with your  instance -> IAM & Admin -> Service Accounts Keys tab -> add key, JSON as key type, then click create\\nNote: Once you go into Service Accounts Keys tab, click the email, then you can see the “KEYS” tab where you can add key as a JSON as its key type',\n",
       "  'section': 'Module 1: Docker and Terraform',\n",
       "  'question': 'GCP - Where can I find the “ny-rides.json” file?',\n",
       "  'course': 'data-engineering-zoomcamp'},\n",
       " {'text': 'You can start by installing and setting up all the dependencies and requirements:\\nGoogle cloud account\\nGoogle Cloud SDK\\nPython 3 (installed with Anaconda)\\nTerraform\\nGit\\nLook over the prerequisites and syllabus to see if you are comfortable with these subjects.',\n",
       "  'section': 'General course-related questions',\n",
       "  'question': 'Course - What can I do before the course starts?',\n",
       "  'course': 'data-engineering-zoomcamp'},\n",
       " {'text': 'Yes, we will keep all the materials after the course finishes, so you can follow the course at your own pace after it finishes.\\nYou can also continue looking at the homeworks and continue preparing for the next cohort. I guess you can also start working on your final capstone project.',\n",
       "  'section': 'General course-related questions',\n",
       "  'question': 'Course - Can I follow the course after it finishes?',\n",
       "  'course': 'data-engineering-zoomcamp'}]"
      ]
     },
     "execution_count": 20,
     "metadata": {},
     "output_type": "execute_result"
    }
   ],
   "source": [
    "elastic_search(query)"
   ]
  },
  {
   "cell_type": "code",
   "execution_count": 21,
   "id": "48a14045-d974-4ce1-b4b5-1ffb38023a9d",
   "metadata": {},
   "outputs": [],
   "source": [
    "def build_prompt(query, search_results):\n",
    "    prompt_template = \"\"\"\n",
    "    You're a cousre teaching assistant. \n",
    "    Answer the QUESTION based on the CONTEXt from the FAQ database.\n",
    "    Use only the facts from the CONTEXT when answering the QUESTION.\n",
    "    If the CONTEXT doesn't contain the answer, ouput NONE\n",
    "    \n",
    "    QUESTION: {question}\n",
    "    \n",
    "    CONTEXT: \n",
    "    {context}\n",
    "    \"\"\".strip()\n",
    "    \n",
    "    context = \"\"\n",
    "    \n",
    "    for doc in search_results:\n",
    "        context = context + f\"section: {doc['section']}\\n question: {doc['question']}\\n answer: {doc['text']}\\n\\n\"\n",
    "                              \n",
    "    prompt = prompt_template.format(question = query, \n",
    "                                     context=context).strip()\n",
    "    "
   ]
  },
  {
   "cell_type": "code",
   "execution_count": 22,
   "id": "8757aa40-592d-4628-a036-d5c6e6d836b4",
   "metadata": {},
   "outputs": [],
   "source": [
    "def rag(query):\n",
    "    search_results = elastic_search(query)\n",
    "    prompt = build_prompt(query, search_results)\n",
    "    answer = llm(prompt)\n",
    "    return answer"
   ]
  },
  {
   "cell_type": "code",
   "execution_count": 23,
   "id": "95e8b973-a243-411a-85d2-db42ef468d3c",
   "metadata": {},
   "outputs": [
    {
     "ename": "NameError",
     "evalue": "name 'llm' is not defined",
     "output_type": "error",
     "traceback": [
      "\u001b[0;31m---------------------------------------------------------------------------\u001b[0m",
      "\u001b[0;31mNameError\u001b[0m                                 Traceback (most recent call last)",
      "Cell \u001b[0;32mIn[23], line 1\u001b[0m\n\u001b[0;32m----> 1\u001b[0m \u001b[38;5;28mprint\u001b[39m(\u001b[43mrag\u001b[49m\u001b[43m(\u001b[49m\u001b[43mquery\u001b[49m\u001b[43m)\u001b[49m)\n",
      "Cell \u001b[0;32mIn[22], line 4\u001b[0m, in \u001b[0;36mrag\u001b[0;34m(query)\u001b[0m\n\u001b[1;32m      2\u001b[0m search_results \u001b[38;5;241m=\u001b[39m elastic_search(query)\n\u001b[1;32m      3\u001b[0m prompt \u001b[38;5;241m=\u001b[39m build_prompt(query, search_results)\n\u001b[0;32m----> 4\u001b[0m answer \u001b[38;5;241m=\u001b[39m \u001b[43mllm\u001b[49m(prompt)\n\u001b[1;32m      5\u001b[0m \u001b[38;5;28;01mreturn\u001b[39;00m answer\n",
      "\u001b[0;31mNameError\u001b[0m: name 'llm' is not defined"
     ]
    }
   ],
   "source": [
    "print(rag(query))"
   ]
  }
 ],
 "metadata": {
  "kernelspec": {
   "display_name": "Python 3 (ipykernel)",
   "language": "python",
   "name": "python3"
  },
  "language_info": {
   "codemirror_mode": {
    "name": "ipython",
    "version": 3
   },
   "file_extension": ".py",
   "mimetype": "text/x-python",
   "name": "python",
   "nbconvert_exporter": "python",
   "pygments_lexer": "ipython3",
   "version": "3.10.13"
  }
 },
 "nbformat": 4,
 "nbformat_minor": 5
}
