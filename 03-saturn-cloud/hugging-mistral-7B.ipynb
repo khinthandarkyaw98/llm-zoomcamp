{
 "cells": [
  {
   "cell_type": "markdown",
   "id": "9b8f3130-649a-4039-97f8-a2215c47ce83",
   "metadata": {},
   "source": [
    "If you're not running in Saturn Cloud, you need to install these libraries:\n",
    "\n",
    "Make sure you use the latest versions\n",
    "\n",
    "```\n",
    "pip install -U transformers accelerate bitsandbytes\n",
    "```\n",
    "\n",
    "Write the following code in your terminal.\n",
    "\n",
    "```\n",
    "echo 'your_hugging_face_token' > ~/.huggingface_token\n",
    "```"
   ]
  },
  {
   "cell_type": "code",
   "execution_count": 1,
   "id": "6bcc57c1-89b8-4dfa-9149-d81db76f25c1",
   "metadata": {
    "execution": {
     "iopub.execute_input": "2024-07-24T06:10:42.194069Z",
     "iopub.status.busy": "2024-07-24T06:10:42.193853Z",
     "iopub.status.idle": "2024-07-24T06:10:45.796403Z",
     "shell.execute_reply": "2024-07-24T06:10:45.795605Z",
     "shell.execute_reply.started": "2024-07-24T06:10:42.194047Z"
    },
    "tags": []
   },
   "outputs": [
    {
     "name": "stdout",
     "output_type": "stream",
     "text": [
      "Requirement already satisfied: transformers in /opt/saturncloud/envs/saturn/lib/python3.9/site-packages (4.43.1)\n",
      "Requirement already satisfied: filelock in /opt/saturncloud/envs/saturn/lib/python3.9/site-packages (from transformers) (3.13.1)\n",
      "Requirement already satisfied: huggingface-hub<1.0,>=0.23.2 in /opt/saturncloud/envs/saturn/lib/python3.9/site-packages (from transformers) (0.24.1)\n",
      "Requirement already satisfied: numpy>=1.17 in /opt/saturncloud/envs/saturn/lib/python3.9/site-packages (from transformers) (1.24.4)\n",
      "Requirement already satisfied: packaging>=20.0 in /opt/saturncloud/envs/saturn/lib/python3.9/site-packages (from transformers) (23.2)\n",
      "Requirement already satisfied: pyyaml>=5.1 in /opt/saturncloud/envs/saturn/lib/python3.9/site-packages (from transformers) (6.0.1)\n",
      "Requirement already satisfied: regex!=2019.12.17 in /opt/saturncloud/envs/saturn/lib/python3.9/site-packages (from transformers) (2023.12.25)\n",
      "Requirement already satisfied: requests in /opt/saturncloud/envs/saturn/lib/python3.9/site-packages (from transformers) (2.31.0)\n",
      "Requirement already satisfied: tokenizers<0.20,>=0.19 in /opt/saturncloud/envs/saturn/lib/python3.9/site-packages (from transformers) (0.19.1)\n",
      "Requirement already satisfied: safetensors>=0.4.1 in /opt/saturncloud/envs/saturn/lib/python3.9/site-packages (from transformers) (0.4.2)\n",
      "Requirement already satisfied: tqdm>=4.27 in /opt/saturncloud/envs/saturn/lib/python3.9/site-packages (from transformers) (4.66.1)\n",
      "Requirement already satisfied: fsspec>=2023.5.0 in /opt/saturncloud/envs/saturn/lib/python3.9/site-packages (from huggingface-hub<1.0,>=0.23.2->transformers) (2024.6.1)\n",
      "Requirement already satisfied: typing-extensions>=3.7.4.3 in /opt/saturncloud/envs/saturn/lib/python3.9/site-packages (from huggingface-hub<1.0,>=0.23.2->transformers) (4.9.0)\n",
      "Requirement already satisfied: charset-normalizer<4,>=2 in /opt/saturncloud/envs/saturn/lib/python3.9/site-packages (from requests->transformers) (3.3.2)\n",
      "Requirement already satisfied: idna<4,>=2.5 in /opt/saturncloud/envs/saturn/lib/python3.9/site-packages (from requests->transformers) (3.6)\n",
      "Requirement already satisfied: urllib3<3,>=1.21.1 in /opt/saturncloud/envs/saturn/lib/python3.9/site-packages (from requests->transformers) (2.1.0)\n",
      "Requirement already satisfied: certifi>=2017.4.17 in /opt/saturncloud/envs/saturn/lib/python3.9/site-packages (from requests->transformers) (2023.11.17)\n",
      "Note: you may need to restart the kernel to use updated packages.\n"
     ]
    }
   ],
   "source": [
    "pip install --upgrade transformers"
   ]
  },
  {
   "cell_type": "code",
   "execution_count": 2,
   "id": "44a7d704-7527-4ffa-8f6c-0a6ae9d64c28",
   "metadata": {
    "execution": {
     "iopub.execute_input": "2024-07-24T06:10:45.798574Z",
     "iopub.status.busy": "2024-07-24T06:10:45.798155Z",
     "iopub.status.idle": "2024-07-24T06:10:46.418197Z",
     "shell.execute_reply": "2024-07-24T06:10:46.417399Z",
     "shell.execute_reply.started": "2024-07-24T06:10:45.798545Z"
    },
    "tags": []
   },
   "outputs": [],
   "source": [
    "rm -rf ~/.cache/huggingface/transformers"
   ]
  },
  {
   "cell_type": "code",
   "execution_count": 3,
   "id": "84a53b7a-75d6-453e-906d-257c4f6cc99b",
   "metadata": {
    "execution": {
     "iopub.execute_input": "2024-07-24T06:10:46.419824Z",
     "iopub.status.busy": "2024-07-24T06:10:46.419559Z",
     "iopub.status.idle": "2024-07-24T06:10:46.816368Z",
     "shell.execute_reply": "2024-07-24T06:10:46.815591Z",
     "shell.execute_reply.started": "2024-07-24T06:10:46.419796Z"
    },
    "tags": []
   },
   "outputs": [
    {
     "name": "stdout",
     "output_type": "stream",
     "text": [
      "The token has not been saved to the git credentials helper. Pass `add_to_git_credential=True` in this function directly or `--add-to-git-credential` if using via `huggingface-cli` if you want to set the git credential as well.\n",
      "Token is valid (permission: read).\n",
      "Your token has been saved to /run/cache/token\n",
      "Login successful\n"
     ]
    }
   ],
   "source": [
    "import os \n",
    "os.environ['HF_HOME'] = '/run/cache/'\n",
    "\n",
    "from huggingface_hub import login\n",
    "\n",
    "# Read token from the file\n",
    "with open(os.path.expanduser('~/.huggingface_token'), 'r') as file:\n",
    "    TOKEN = file.read().strip()\n",
    "\n",
    "# Log in using the token\n",
    "login(token=TOKEN)"
   ]
  },
  {
   "cell_type": "code",
   "execution_count": 4,
   "id": "506fab2a-a50c-42bd-a106-c83a9d2828ea",
   "metadata": {
    "execution": {
     "iopub.execute_input": "2024-07-24T06:10:46.817567Z",
     "iopub.status.busy": "2024-07-24T06:10:46.817276Z",
     "iopub.status.idle": "2024-07-24T06:10:48.080396Z",
     "shell.execute_reply": "2024-07-24T06:10:48.079283Z",
     "shell.execute_reply.started": "2024-07-24T06:10:46.817545Z"
    },
    "tags": []
   },
   "outputs": [
    {
     "name": "stdout",
     "output_type": "stream",
     "text": [
      "--2024-07-24 06:10:47--  https://raw.githubusercontent.com/alexeygrigorev/minsearch/main/minsearch.py\n",
      "Resolving raw.githubusercontent.com (raw.githubusercontent.com)... 185.199.111.133, 185.199.108.133, 185.199.109.133, ...\n",
      "Connecting to raw.githubusercontent.com (raw.githubusercontent.com)|185.199.111.133|:443... connected.\n",
      "HTTP request sent, awaiting response... 200 OK\n",
      "Length: 3832 (3.7K) [text/plain]\n",
      "Saving to: ‘minsearch.py’\n",
      "\n",
      "minsearch.py        100%[===================>]   3.74K  --.-KB/s    in 0s      \n",
      "\n",
      "2024-07-24 06:10:47 (90.9 MB/s) - ‘minsearch.py’ saved [3832/3832]\n",
      "\n"
     ]
    }
   ],
   "source": [
    "!rm -f minsearch.py\n",
    "!wget https://raw.githubusercontent.com/alexeygrigorev/minsearch/main/minsearch.py"
   ]
  },
  {
   "cell_type": "code",
   "execution_count": 5,
   "id": "3ac947de-effd-4b61-8792-a6d7a133f347",
   "metadata": {
    "execution": {
     "iopub.execute_input": "2024-07-24T06:10:48.082093Z",
     "iopub.status.busy": "2024-07-24T06:10:48.081712Z",
     "iopub.status.idle": "2024-07-24T06:10:50.078830Z",
     "shell.execute_reply": "2024-07-24T06:10:50.078082Z",
     "shell.execute_reply.started": "2024-07-24T06:10:48.082065Z"
    },
    "tags": []
   },
   "outputs": [
    {
     "data": {
      "text/plain": [
       "<minsearch.Index at 0x7fa82941aeb0>"
      ]
     },
     "execution_count": 5,
     "metadata": {},
     "output_type": "execute_result"
    }
   ],
   "source": [
    "import requests \n",
    "import minsearch\n",
    "\n",
    "docs_url = 'https://github.com/DataTalksClub/llm-zoomcamp/blob/main/01-intro/documents.json?raw=1'\n",
    "docs_response = requests.get(docs_url)\n",
    "documents_raw = docs_response.json()\n",
    "\n",
    "documents = []\n",
    "\n",
    "for course in documents_raw:\n",
    "    course_name = course['course']\n",
    "\n",
    "    for doc in course['documents']:\n",
    "        doc['course'] = course_name\n",
    "        documents.append(doc)\n",
    "\n",
    "index = minsearch.Index(\n",
    "    text_fields=[\"question\", \"text\", \"section\"],\n",
    "    keyword_fields=[\"course\"]\n",
    ")\n",
    "\n",
    "index.fit(documents)"
   ]
  },
  {
   "cell_type": "code",
   "execution_count": 6,
   "id": "8f087272-b44d-4738-9ea2-175ec63a058b",
   "metadata": {
    "execution": {
     "iopub.execute_input": "2024-07-24T06:10:50.080197Z",
     "iopub.status.busy": "2024-07-24T06:10:50.079817Z",
     "iopub.status.idle": "2024-07-24T06:10:50.084210Z",
     "shell.execute_reply": "2024-07-24T06:10:50.083464Z",
     "shell.execute_reply.started": "2024-07-24T06:10:50.080172Z"
    },
    "tags": []
   },
   "outputs": [],
   "source": [
    "def search(query):\n",
    "    boost = {'question': 3.0, 'section': 0.5}\n",
    "\n",
    "    results = index.search(\n",
    "        query=query,\n",
    "        filter_dict={'course': 'data-engineering-zoomcamp'},\n",
    "        boost_dict=boost,\n",
    "        num_results=5\n",
    "    )\n",
    "\n",
    "    return results"
   ]
  },
  {
   "cell_type": "code",
   "execution_count": 7,
   "id": "091a77e6-936b-448e-a04b-bad1001f5bb0",
   "metadata": {
    "execution": {
     "iopub.execute_input": "2024-07-24T06:10:50.086761Z",
     "iopub.status.busy": "2024-07-24T06:10:50.086352Z",
     "iopub.status.idle": "2024-07-24T06:10:50.720119Z",
     "shell.execute_reply": "2024-07-24T06:10:50.719311Z",
     "shell.execute_reply.started": "2024-07-24T06:10:50.086737Z"
    },
    "tags": []
   },
   "outputs": [
    {
     "name": "stdout",
     "output_type": "stream",
     "text": [
      "Filesystem      Size  Used Avail Use% Mounted on\n",
      "overlay         100G   77G   24G  77% /\n",
      "tmpfs            64M     0   64M   0% /dev\n",
      "tmpfs           7.7G     0  7.7G   0% /sys/fs/cgroup\n",
      "/dev/nvme0n1p1  100G   77G   24G  77% /run\n",
      "tmpfs            14G     0   14G   0% /dev/shm\n",
      "/dev/nvme2n1    2.0G  474M  1.5G  25% /home/jovyan\n",
      "tmpfs            14G  120K   14G   1% /home/jovyan/.saturn\n",
      "tmpfs            14G   12K   14G   1% /run/secrets/kubernetes.io/serviceaccount\n",
      "tmpfs           7.7G   12K  7.7G   1% /proc/driver/nvidia\n",
      "tmpfs           7.7G  9.2M  7.7G   1% /run/nvidia-persistenced/socket\n",
      "tmpfs           7.7G     0  7.7G   0% /proc/acpi\n",
      "tmpfs           7.7G     0  7.7G   0% /sys/firmware\n"
     ]
    }
   ],
   "source": [
    "# let's see how many spaces had in my home directory\n",
    "!df -h"
   ]
  },
  {
   "cell_type": "code",
   "execution_count": 8,
   "id": "21aa255e-c971-44ca-9826-a721df3ad063",
   "metadata": {
    "execution": {
     "iopub.execute_input": "2024-07-24T06:10:50.721679Z",
     "iopub.status.busy": "2024-07-24T06:10:50.721323Z",
     "iopub.status.idle": "2024-07-24T06:10:50.725532Z",
     "shell.execute_reply": "2024-07-24T06:10:50.724767Z",
     "shell.execute_reply.started": "2024-07-24T06:10:50.721652Z"
    },
    "tags": []
   },
   "outputs": [],
   "source": [
    "# let's tell hugging face to use space in this .... directory"
   ]
  },
  {
   "cell_type": "code",
   "execution_count": 9,
   "id": "44401204",
   "metadata": {
    "execution": {
     "iopub.execute_input": "2024-07-24T06:10:50.727320Z",
     "iopub.status.busy": "2024-07-24T06:10:50.726716Z",
     "iopub.status.idle": "2024-07-24T06:10:54.537627Z",
     "shell.execute_reply": "2024-07-24T06:10:54.536960Z",
     "shell.execute_reply.started": "2024-07-24T06:10:50.727284Z"
    },
    "tags": []
   },
   "outputs": [],
   "source": [
    "from transformers import MistralForCausalLM\n",
    "from transformers import AutoTokenizer\n",
    "\n",
    "tokenizer = AutoTokenizer.from_pretrained('mistralai/mathstral-7B-v0.1')"
   ]
  },
  {
   "cell_type": "code",
   "execution_count": 10,
   "id": "0c7235e1-a33a-4344-9ac8-d237188984be",
   "metadata": {
    "execution": {
     "iopub.execute_input": "2024-07-24T06:10:54.539278Z",
     "iopub.status.busy": "2024-07-24T06:10:54.538754Z",
     "iopub.status.idle": "2024-07-24T06:10:54.586918Z",
     "shell.execute_reply": "2024-07-24T06:10:54.586216Z",
     "shell.execute_reply.started": "2024-07-24T06:10:54.539249Z"
    },
    "tags": []
   },
   "outputs": [
    {
     "name": "stdout",
     "output_type": "stream",
     "text": [
      "{'input_ids': tensor([[    1,  3963,  1228,  1040, 15534,  1070, 24480, 29572]]), 'attention_mask': tensor([[1, 1, 1, 1, 1, 1, 1, 1]])}\n"
     ]
    }
   ],
   "source": [
    "prompt = \"What are the roots of unity?\"\n",
    "tokenized_prompts = tokenizer(prompt, return_tensors=\"pt\") \n",
    "print(tokenized_prompts)"
   ]
  },
  {
   "cell_type": "code",
   "execution_count": null,
   "id": "2df94f25-c8c8-4522-8507-22581ae4b0a0",
   "metadata": {
    "execution": {
     "iopub.execute_input": "2024-07-24T06:10:54.588450Z",
     "iopub.status.busy": "2024-07-24T06:10:54.587819Z"
    },
    "tags": []
   },
   "outputs": [
    {
     "data": {
      "application/vnd.jupyter.widget-view+json": {
       "model_id": "85f1db12ed8549969e35704bd379482d",
       "version_major": 2,
       "version_minor": 0
      },
      "text/plain": [
       "Loading checkpoint shards:   0%|          | 0/6 [00:00<?, ?it/s]"
      ]
     },
     "metadata": {},
     "output_type": "display_data"
    },
    {
     "name": "stderr",
     "output_type": "stream",
     "text": [
      "Setting `pad_token_id` to `eos_token_id`:2 for open-end generation.\n"
     ]
    }
   ],
   "source": [
    "model = MistralForCausalLM.from_pretrained('mistralai/mathstral-7B-v0.1')\n",
    "generation = model.generate(**tokenized_prompts, max_new_tokens=512)\n",
    "print(tokenizer.decode(generation[0]))"
   ]
  },
  {
   "cell_type": "code",
   "execution_count": null,
   "id": "b77e2f79-8d6f-456b-9a60-85cbfc414b52",
   "metadata": {
    "tags": []
   },
   "outputs": [],
   "source": [
    "# Use a pipeline as a high-level helper\n",
    "from transformers import pipeline\n",
    "\n",
    "pipe = pipeline(\"text-generation\", \n",
    "                model=\"mistralai/mathstral-7B-v0.1\", \n",
    "                tokenizer=tokenizer)"
   ]
  },
  {
   "cell_type": "code",
   "execution_count": null,
   "id": "851a0fe6",
   "metadata": {
    "tags": []
   },
   "outputs": [],
   "source": [
    "def build_prompt(query, search_results):\n",
    "    prompt_template = \"\"\"\n",
    "    QUESTION: {question}\n",
    "\n",
    "    CONTEXT:\n",
    "    {context}\n",
    "\n",
    "    ANSWER:\n",
    "    \"\"\".strip()\n",
    "\n",
    "    context = \"\"\n",
    "    \n",
    "    for doc in search_results:\n",
    "        context = context + f\"{doc['question']}\\n{doc['text']}\\n\\n\"\n",
    "    \n",
    "    prompt = prompt_template.format(question=query, context=context).strip()\n",
    "    return prompt"
   ]
  },
  {
   "cell_type": "code",
   "execution_count": null,
   "id": "5077c429",
   "metadata": {},
   "outputs": [],
   "source": [
    "def llm(prompt):\n",
    "    response = pipe(prompt, \n",
    "                         max_length=500, \n",
    "                         temperature=0.7, \n",
    "                         top_p=0.95, \n",
    "                         num_return_sequences=1)\n",
    "    response_final = response[0]['generated_text']\n",
    "    return response_final[len(prompt):].strip()"
   ]
  },
  {
   "cell_type": "code",
   "execution_count": null,
   "id": "5b1fb5f1",
   "metadata": {},
   "outputs": [],
   "source": [
    "def rag(query): \n",
    "    search_results = search(query)\n",
    "    prompt = build_prompt(query, search_results)\n",
    "    answer = llm(prompt)\n",
    "    return answer"
   ]
  },
  {
   "cell_type": "code",
   "execution_count": null,
   "id": "e9c31683",
   "metadata": {
    "tags": []
   },
   "outputs": [],
   "source": [
    "query = \"I just came across the course. Is it too late to join?\"\n",
    "rag(query)"
   ]
  }
 ],
 "metadata": {
  "kernelspec": {
   "display_name": "saturn (Python 3)",
   "language": "python",
   "name": "python3"
  },
  "language_info": {
   "codemirror_mode": {
    "name": "ipython",
    "version": 3
   },
   "file_extension": ".py",
   "mimetype": "text/x-python",
   "name": "python",
   "nbconvert_exporter": "python",
   "pygments_lexer": "ipython3",
   "version": "3.9.18"
  }
 },
 "nbformat": 4,
 "nbformat_minor": 5
}
